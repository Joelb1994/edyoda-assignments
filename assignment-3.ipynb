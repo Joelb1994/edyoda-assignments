{
 "cells": [
  {
   "cell_type": "code",
   "execution_count": 4,
   "id": "9e32dd6c",
   "metadata": {},
   "outputs": [
    {
     "name": "stdout",
     "output_type": "stream",
     "text": [
      "10\n"
     ]
    }
   ],
   "source": [
    "#Write a Python function to sum all the numbers in a list.\n",
    "\n",
    "def sum(numbers):\n",
    "\n",
    "    sum= 0\n",
    "\n",
    "    for i in numbers:\n",
    "\n",
    "         sum+= i\n",
    "             \n",
    "    return sum\n",
    "\n",
    "print(sum(numbers))\n",
    "\n",
    "numbers=[1,2,3,4]"
   ]
  },
  {
   "cell_type": "raw",
   "id": "9108bb35",
   "metadata": {},
   "source": [
    "\n",
    "        \n",
    " \n",
    "                \n"
   ]
  },
  {
   "cell_type": "code",
   "execution_count": 10,
   "id": "87c8c61b",
   "metadata": {},
   "outputs": [
    {
     "name": "stdout",
     "output_type": "stream",
     "text": [
      "enter a string:joel\n",
      "entered string joel\n",
      "reversed string is: leoj\n"
     ]
    }
   ],
   "source": [
    "#Write a Python program to reverse a string.\n",
    "\n",
    "def reverse(string):\n",
    "    reversed_string=\"\"\n",
    "    for i in string:\n",
    "        reversed_string=i+reversed_string\n",
    "    print(\"reversed string is:\",reversed_string)\n",
    "string=input('enter a string:')\n",
    "print('entered string',string)\n",
    "reverse(string)\n"
   ]
  },
  {
   "cell_type": "code",
   "execution_count": 14,
   "id": "fc59b675",
   "metadata": {},
   "outputs": [
    {
     "name": "stdout",
     "output_type": "stream",
     "text": [
      "enter a string:KKJol\n",
      "no of upper case characters: 3\n",
      "no of lower case characters: 2\n"
     ]
    }
   ],
   "source": [
    "#Write a Python function that accepts a string and calculate the number of upper case letters and lower case letters.\n",
    "\n",
    "def sample_string(s):\n",
    "    d={\"upper_case\":0,\"lower_case\":0}\n",
    "    for c in s:\n",
    "        if c.isupper():\n",
    "            d['upper_case']+=1\n",
    "        elif c.islower():\n",
    "            d['lower_case']+=1\n",
    "        else:\n",
    "            pass\n",
    "    print('no of upper case characters:',d[\"upper_case\"])\n",
    "    print('no of lower case characters:',d[\"lower_case\"])\n",
    "sample_string(input('enter a string:'))"
   ]
  },
  {
   "cell_type": "code",
   "execution_count": null,
   "id": "a6f9c8c8",
   "metadata": {},
   "outputs": [],
   "source": []
  }
 ],
 "metadata": {
  "kernelspec": {
   "display_name": "Python 3 (ipykernel)",
   "language": "python",
   "name": "python3"
  },
  "language_info": {
   "codemirror_mode": {
    "name": "ipython",
    "version": 3
   },
   "file_extension": ".py",
   "mimetype": "text/x-python",
   "name": "python",
   "nbconvert_exporter": "python",
   "pygments_lexer": "ipython3",
   "version": "3.10.9"
  }
 },
 "nbformat": 4,
 "nbformat_minor": 5
}
