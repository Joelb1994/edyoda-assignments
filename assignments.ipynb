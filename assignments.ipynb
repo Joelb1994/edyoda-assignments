{
 "cells": [
  {
   "cell_type": "code",
   "execution_count": null,
   "id": "eef83298",
   "metadata": {},
   "outputs": [],
   "source": [
    "\"\"\"\"write a python programme that accepts a word from user and reverse it\"\"\"\n",
    "\n",
    "the_word=input('enter the word:')\n",
    "reversed=the_word[::-1]\n",
    "print(\"the reversed word is:\",reversed)"
   ]
  },
  {
   "cell_type": "raw",
   "id": "edefc09f",
   "metadata": {},
   "source": [
    "\n"
   ]
  },
  {
   "cell_type": "code",
   "execution_count": null,
   "id": "247be6f8",
   "metadata": {},
   "outputs": [],
   "source": [
    "\"\"\"\"write a python program to count the number of odd and even numbers from a series of numbers\"\"\"\n",
    "numbers=[2,3,5,7,6,8,9,20,99,234,431]\n",
    "even,odd=0,0\n",
    "for i in numbers:\n",
    "    if i%2==0:\n",
    "        even+=1\n",
    "    else:\n",
    "        odd+=1\n",
    "print('number of even numbers:',even)\n",
    "print('number of odd numbers:',odd)\n"
   ]
  },
  {
   "cell_type": "code",
   "execution_count": null,
   "id": "9563e56b",
   "metadata": {},
   "outputs": [],
   "source": [
    "\"\"\"write a pytho program to get the fibonacci between 0 to 50\"\"\"\n",
    "n=int(input(\"enter the number: \"))\n",
    "a=0\n",
    "b=1\n",
    "for i in range(0,n):\n",
    "    print(a,end=\" \")\n",
    "    x=a\n",
    "    a=b\n",
    "    b=x+b\n",
    "    \n",
    "    "
   ]
  },
  {
   "cell_type": "code",
   "execution_count": null,
   "id": "8a1ee4e0",
   "metadata": {},
   "outputs": [],
   "source": []
  },
  {
   "cell_type": "code",
   "execution_count": null,
   "id": "314fb8b3",
   "metadata": {},
   "outputs": [],
   "source": []
  }
 ],
 "metadata": {
  "kernelspec": {
   "display_name": "Python 3 (ipykernel)",
   "language": "python",
   "name": "python3"
  },
  "language_info": {
   "codemirror_mode": {
    "name": "ipython",
    "version": 3
   },
   "file_extension": ".py",
   "mimetype": "text/x-python",
   "name": "python",
   "nbconvert_exporter": "python",
   "pygments_lexer": "ipython3",
   "version": "3.10.9"
  }
 },
 "nbformat": 4,
 "nbformat_minor": 5
}
