{
 "cells": [
  {
   "cell_type": "code",
   "execution_count": 38,
   "id": "33f3cf60",
   "metadata": {},
   "outputs": [
    {
     "name": "stdout",
     "output_type": "stream",
     "text": [
      "[0. 0. 0. 0. 1. 0. 0. 0. 0. 0.]\n"
     ]
    }
   ],
   "source": [
    "#1.Create a null vector of size 10 but the fifth value which is 1.\n",
    "\n",
    "\n",
    "vector = np.zeros(10)\n",
    "vector[4] = 1\n",
    "\n",
    "print(vector)"
   ]
  },
  {
   "cell_type": "code",
   "execution_count": null,
   "id": "4a4a979b",
   "metadata": {},
   "outputs": [],
   "source": [
    "\n"
   ]
  },
  {
   "cell_type": "code",
   "execution_count": 11,
   "id": "24ed6d6a",
   "metadata": {},
   "outputs": [
    {
     "name": "stdout",
     "output_type": "stream",
     "text": [
      "[10 11 12 13 14 15 16 17 18 19 20 21 22 23 24 25 26 27 28 29 30 31 32 33\n",
      " 34 35 36 37 38 39 40 41 42 43 44 45 46 47 48 49]\n"
     ]
    }
   ],
   "source": [
    "#2. Create a vector with values ranging from 10 to 49\n",
    "vector=np.arange(10,50)\n",
    "print(vector)"
   ]
  },
  {
   "cell_type": "code",
   "execution_count": 24,
   "id": "1367a65f",
   "metadata": {},
   "outputs": [
    {
     "data": {
      "text/plain": [
       "array([[0, 1, 2],\n",
       "       [3, 4, 5],\n",
       "       [6, 7, 8]])"
      ]
     },
     "execution_count": 24,
     "metadata": {},
     "output_type": "execute_result"
    }
   ],
   "source": [
    "#3. Create a 3x3 matrix with values ranging from 0 to 8\n",
    "matrix=np.arange(9)\n",
    "matrix=matrix.reshape(3,3)\n",
    "matrix"
   ]
  },
  {
   "cell_type": "code",
   "execution_count": 33,
   "id": "efe90819",
   "metadata": {},
   "outputs": [
    {
     "name": "stdout",
     "output_type": "stream",
     "text": [
      "[0 1 4]\n"
     ]
    }
   ],
   "source": [
    "#4. Find indices of non-zero elements from [1,2,0,0,4,0]\n",
    "array = np.array([1, 2, 0, 0, 4, 0])\n",
    "non_zero_indices = np.nonzero(array)[0]\n",
    "\n",
    "print(non_zero_indices)"
   ]
  },
  {
   "cell_type": "code",
   "execution_count": 48,
   "id": "95317a75",
   "metadata": {},
   "outputs": [
    {
     "name": "stdout",
     "output_type": "stream",
     "text": [
      "array= [[0.61155938 0.74310566 0.47849094 0.11023478 0.37562887 0.53096513\n",
      "  0.01062639 0.02820728 0.94734809 0.07509532]\n",
      " [0.43577927 0.46492079 0.47726356 0.79937671 0.9627739  0.127925\n",
      "  0.85966356 0.22944023 0.08261375 0.56472731]\n",
      " [0.76686865 0.72376435 0.76004364 0.98363446 0.49784235 0.39945771\n",
      "  0.41083651 0.33647756 0.37743648 0.48071886]\n",
      " [0.31470987 0.39836516 0.97704058 0.73432025 0.87830441 0.14238055\n",
      "  0.38408768 0.54981218 0.14959281 0.68585817]\n",
      " [0.78263718 0.36192969 0.19963911 0.97230498 0.42094604 0.02399492\n",
      "  0.55831946 0.08680695 0.23371839 0.34755989]\n",
      " [0.67664778 0.51518758 0.9812591  0.37946738 0.27153814 0.22350686\n",
      "  0.3730727  0.61662617 0.46091106 0.51706782]\n",
      " [0.6370302  0.93877714 0.49873999 0.49969877 0.56445595 0.00793796\n",
      "  0.20863136 0.0930578  0.963414   0.10569644]\n",
      " [0.86810771 0.47492794 0.53174464 0.08717574 0.72216598 0.61417168\n",
      "  0.53944149 0.37718881 0.44728851 0.38022908]\n",
      " [0.22264558 0.63816485 0.6494555  0.87426858 0.91738851 0.12365597\n",
      "  0.52714907 0.02056214 0.28942996 0.79424122]\n",
      " [0.8246432  0.55662354 0.04142899 0.35134383 0.37274486 0.67208006\n",
      "  0.53573955 0.57055333 0.25894156 0.01345708]]\n",
      "minimum value= 0.47684837924328105\n",
      "minimum value= 0.983634457900756\n"
     ]
    }
   ],
   "source": [
    "#5.Create a 10x10 array with random values and find the minimum and maximum values.\n",
    "\n",
    "from numpy import random\n",
    "\n",
    "array=random.rand(10,10)\n",
    "\n",
    "print (\"array=\",array)\n",
    "\n",
    "print(\"minimum value=\",np.mean(array))\n",
    "\n",
    "print(\"minimum value=\",np.max(array))"
   ]
  },
  {
   "cell_type": "code",
   "execution_count": null,
   "id": "c45b2531",
   "metadata": {},
   "outputs": [],
   "source": []
  },
  {
   "cell_type": "code",
   "execution_count": 53,
   "id": "619092ce",
   "metadata": {},
   "outputs": [
    {
     "name": "stdout",
     "output_type": "stream",
     "text": [
      "vector= [0.04601782 0.22160582 0.92254199 0.22430124 0.81299736 0.6895099\n",
      " 0.52884861 0.99368699 0.66421719 0.30370901 0.11877446 0.17674122\n",
      " 0.34345124 0.7482192  0.63783022 0.43099803 0.73059789 0.51147142\n",
      " 0.71158987 0.88381853 0.43015803 0.44421082 0.22652724 0.47762733\n",
      " 0.13081162 0.48390355 0.39452064 0.60586253 0.02259297 0.54523672]\n",
      "mean value= 0.48207931470358395\n"
     ]
    }
   ],
   "source": [
    "#6.6. Create a random vector of size 30 and find the mean value.\n",
    "\n",
    "vector=random.rand(30)\n",
    "print(\"vector=\",vector)\n",
    "print(\"mean value=\",np.mean(vector))"
   ]
  },
  {
   "cell_type": "code",
   "execution_count": null,
   "id": "c486e77c",
   "metadata": {},
   "outputs": [],
   "source": []
  }
 ],
 "metadata": {
  "kernelspec": {
   "display_name": "Python 3 (ipykernel)",
   "language": "python",
   "name": "python3"
  },
  "language_info": {
   "codemirror_mode": {
    "name": "ipython",
    "version": 3
   },
   "file_extension": ".py",
   "mimetype": "text/x-python",
   "name": "python",
   "nbconvert_exporter": "python",
   "pygments_lexer": "ipython3",
   "version": "3.10.9"
  }
 },
 "nbformat": 4,
 "nbformat_minor": 5
}
