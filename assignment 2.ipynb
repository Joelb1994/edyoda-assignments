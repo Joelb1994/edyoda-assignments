{
 "cells": [
  {
   "cell_type": "code",
   "execution_count": 14,
   "id": "26cca710",
   "metadata": {},
   "outputs": [
    {
     "name": "stdout",
     "output_type": "stream",
     "text": [
      "list of tuple before sorting:[(5, 7), (12, 4), (20, 13), (45, 2), (5, 0)]\n",
      "list of tuple after sorting:[(5, 0), (45, 2), (12, 4), (5, 7), (20, 13)]\n"
     ]
    }
   ],
   "source": [
    "# assignment 2\n",
    "#write a python program to get a list, sorted incresenig order by the last element in each tuple from a given list of empty tuples\n",
    "def last(n):\n",
    "    return n[-1]\n",
    "tuplist=[(5,7),(12,4),(20,13),(45,2),(5,0)]\n",
    "print(\"list of tuple before sorting:\"+str(tuplist ))\n",
    "sortedtuplist=sorted(tuplist,key=last)\n",
    "print(\"list of tuple after sorting:\"+str(sortedtuplist ))\n"
   ]
  },
  {
   "cell_type": "raw",
   "id": "da479c95",
   "metadata": {},
   "source": []
  },
  {
   "cell_type": "code",
   "execution_count": 15,
   "id": "3acf7e67",
   "metadata": {},
   "outputs": [
    {
     "name": "stdout",
     "output_type": "stream",
     "text": [
      "{'a': 97, 'b': 98, 'c': 99, 'd': 100, 'e': 101, 'f': 102, 'g': 103, 'h': 104, 'i': 105, 'j': 106, 'k': 107, 'l': 108, 'm': 109, 'n': 110, 'o': 111, 'p': 112, 'q': 113, 'r': 114, 's': 115, 't': 116, 'u': 117, 'v': 118, 'w': 119, 'x': 120, 'y': 121, 'z': 122}\n"
     ]
    }
   ],
   "source": [
    "#write a python programm to print dictonary whose keys should be the alphabet from a-z and the value should corresponding ASCII values alphabets=\"abcdefghijklmnopqrstuvwxyz\"\n",
    "alphabets=\"abcdefghijklmnopqrstuvwxyz\"\n",
    "ascii_values={alphabet:ord(alphabet) for alphabet in alphabets}\n",
    "print(ascii_values)"
   ]
  },
  {
   "cell_type": "raw",
   "id": "64e635e4",
   "metadata": {},
   "source": []
  }
 ],
 "metadata": {
  "kernelspec": {
   "display_name": "Python 3 (ipykernel)",
   "language": "python",
   "name": "python3"
  },
  "language_info": {
   "codemirror_mode": {
    "name": "ipython",
    "version": 3
   },
   "file_extension": ".py",
   "mimetype": "text/x-python",
   "name": "python",
   "nbconvert_exporter": "python",
   "pygments_lexer": "ipython3",
   "version": "3.10.9"
  }
 },
 "nbformat": 4,
 "nbformat_minor": 5
}
