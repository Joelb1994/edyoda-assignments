{
 "cells": [
  {
   "cell_type": "code",
   "execution_count": 1,
   "id": "c436ab9c",
   "metadata": {},
   "outputs": [
    {
     "data": {
      "text/plain": [
       "[3, 6, 9, 12, 15, 18, 21]"
      ]
     },
     "execution_count": 1,
     "metadata": {},
     "output_type": "execute_result"
    }
   ],
   "source": [
    "#Write a Python program to triple all numbers of a given list of integers. Use Python map\n",
    "lst=[1,2,3,4,5,6,7]\n",
    "triple_powr=lambda x:x*3\n",
    "list(map(triple_powr,lst))"
   ]
  },
  {
   "cell_type": "code",
   "execution_count": 2,
   "id": "1b5c9e36",
   "metadata": {},
   "outputs": [
    {
     "data": {
      "text/plain": [
       "30"
      ]
     },
     "execution_count": 2,
     "metadata": {},
     "output_type": "execute_result"
    }
   ],
   "source": [
    "#Write a Python program to create a lambda function that adds 25 to a given number passed in as an argument.\n",
    "x=lambda x:x+25\n",
    "x(5)"
   ]
  },
  {
   "cell_type": "code",
   "execution_count": 3,
   "id": "efac8e41",
   "metadata": {},
   "outputs": [
    {
     "data": {
      "text/plain": [
       "[16, 25, 4, 81]"
      ]
     },
     "execution_count": 3,
     "metadata": {},
     "output_type": "execute_result"
    }
   ],
   "source": [
    "#Write a Python program to square the elements of a list using map() function.\n",
    "lst=[4,5,2,9]\n",
    "powr=lambda x:x**2\n",
    "list(map(powr,lst))"
   ]
  },
  {
   "cell_type": "code",
   "execution_count": null,
   "id": "b0833e81",
   "metadata": {},
   "outputs": [],
   "source": []
  }
 ],
 "metadata": {
  "kernelspec": {
   "display_name": "Python 3 (ipykernel)",
   "language": "python",
   "name": "python3"
  },
  "language_info": {
   "codemirror_mode": {
    "name": "ipython",
    "version": 3
   },
   "file_extension": ".py",
   "mimetype": "text/x-python",
   "name": "python",
   "nbconvert_exporter": "python",
   "pygments_lexer": "ipython3",
   "version": "3.10.9"
  }
 },
 "nbformat": 4,
 "nbformat_minor": 5
}
