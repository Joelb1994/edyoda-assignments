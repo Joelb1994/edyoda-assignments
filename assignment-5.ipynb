{
 "cells": [
  {
   "cell_type": "markdown",
   "id": "9d265e63",
   "metadata": {},
   "source": [
    "# Challenge 1: Square Numbers and Return Their Sum"
   ]
  },
  {
   "cell_type": "code",
   "execution_count": 1,
   "id": "10a765af",
   "metadata": {},
   "outputs": [],
   "source": [
    "class Point:\n",
    "    def __init__(self, x, y, z):\n",
    "        self.x = x\n",
    "        self.y = y\n",
    "        self.z=  z\n",
    "\n",
    "    def distance_from_origin(self):\n",
    "        return (((self.x ** 2) + (self.y ** 2) + (self.z ** 2)))"
   ]
  },
  {
   "cell_type": "code",
   "execution_count": 2,
   "id": "14bb2b69",
   "metadata": {},
   "outputs": [],
   "source": [
    "p = Point(1,3,5)"
   ]
  },
  {
   "cell_type": "code",
   "execution_count": 3,
   "id": "59aced93",
   "metadata": {},
   "outputs": [
    {
     "name": "stdout",
     "output_type": "stream",
     "text": [
      "sum of suqares of given number is: 35\n"
     ]
    }
   ],
   "source": [
    "sum_of_square=p.distance_from_origin()\n",
    "print(\"sum of suqares of given number is:\",sum_of_square)"
   ]
  },
  {
   "cell_type": "markdown",
   "id": "f5a3a386",
   "metadata": {},
   "source": [
    "# Challenge 2: Implement a Calculator Class"
   ]
  },
  {
   "cell_type": "code",
   "execution_count": null,
   "id": "6bddc0d6",
   "metadata": {},
   "outputs": [],
   "source": [
    "class Calculator:\n",
    "\n",
    "    def __init__(self,a,b):\n",
    "        self.a=a\n",
    "        self.b=b\n",
    "        \n",
    "    def add(self):\n",
    "         return self.a+self.b\n",
    "    \n",
    "    def subtract(self):\n",
    "         return self.a-self.b\n",
    "    \n",
    "    def multiply(self):\n",
    "        return self.a*self.b\n",
    "    \n",
    "    def divide(self):\n",
    "        return self.a//self.b"
   ]
  },
  {
   "cell_type": "code",
   "execution_count": null,
   "id": "69ce32a4",
   "metadata": {},
   "outputs": [],
   "source": [
    "obj = Calculator(1,2)"
   ]
  },
  {
   "cell_type": "code",
   "execution_count": null,
   "id": "4766c06f",
   "metadata": {},
   "outputs": [],
   "source": [
    "obj.add()"
   ]
  },
  {
   "cell_type": "code",
   "execution_count": null,
   "id": "21637ae2",
   "metadata": {},
   "outputs": [],
   "source": [
    "obj.subtract()"
   ]
  },
  {
   "cell_type": "code",
   "execution_count": null,
   "id": "67a2dcb4",
   "metadata": {},
   "outputs": [],
   "source": [
    "obj.multiply()"
   ]
  },
  {
   "cell_type": "code",
   "execution_count": null,
   "id": "2459ee36",
   "metadata": {},
   "outputs": [],
   "source": [
    "obj.divide()"
   ]
  },
  {
   "cell_type": "markdown",
   "id": "2f10d250",
   "metadata": {},
   "source": [
    "# Challenge 3: Implement the Complete Student Class"
   ]
  },
  {
   "cell_type": "code",
   "execution_count": 4,
   "id": "b506c4a7",
   "metadata": {},
   "outputs": [],
   "source": [
    "class Student:\n",
    "    def __init__(self):\n",
    "        self.name=\"name\"\n",
    "        self.roll_number=\"roll_number\"\n",
    "    \n",
    "    def set_name(self,your_name):\n",
    "        self.name=your_name\n",
    "        \n",
    "    def get_name(self):\n",
    "        return self.name\n",
    "    \n",
    "    def set_roll_number(self,your_roll_number):\n",
    "        self.roll_number=your_roll_number\n",
    "        \n",
    "    def get_roll_number(self):\n",
    "        return self.roll_number"
   ]
  },
  {
   "cell_type": "code",
   "execution_count": 5,
   "id": "8b26bab2",
   "metadata": {},
   "outputs": [],
   "source": [
    "user1=Student()"
   ]
  },
  {
   "cell_type": "code",
   "execution_count": 6,
   "id": "453e289c",
   "metadata": {},
   "outputs": [],
   "source": [
    "user1.set_name(\"joel\")"
   ]
  },
  {
   "cell_type": "code",
   "execution_count": 10,
   "id": "ea79b492",
   "metadata": {},
   "outputs": [],
   "source": [
    "user1.set_roll_number(968687683)"
   ]
  },
  {
   "cell_type": "code",
   "execution_count": 11,
   "id": "0e098f41",
   "metadata": {},
   "outputs": [
    {
     "data": {
      "text/plain": [
       "'joel'"
      ]
     },
     "execution_count": 11,
     "metadata": {},
     "output_type": "execute_result"
    }
   ],
   "source": [
    "user1.get_name()"
   ]
  },
  {
   "cell_type": "code",
   "execution_count": 12,
   "id": "97aad6fe",
   "metadata": {},
   "outputs": [
    {
     "data": {
      "text/plain": [
       "968687683"
      ]
     },
     "execution_count": 12,
     "metadata": {},
     "output_type": "execute_result"
    }
   ],
   "source": [
    "user1.get_roll_number()"
   ]
  },
  {
   "cell_type": "code",
   "execution_count": 13,
   "id": "e39afbaa",
   "metadata": {},
   "outputs": [
    {
     "name": "stdout",
     "output_type": "stream",
     "text": [
      "Student name is : joel , and the roll no is: 968687683.\n"
     ]
    }
   ],
   "source": [
    "print(f\"Student name is : {user1.get_name()} , and the roll no is: {user1.get_roll_number()}.\")"
   ]
  },
  {
   "cell_type": "markdown",
   "id": "f535f088",
   "metadata": {},
   "source": [
    "# Challenge 4: Implement a Banking Account"
   ]
  },
  {
   "cell_type": "code",
   "execution_count": 14,
   "id": "f8eab294",
   "metadata": {},
   "outputs": [],
   "source": [
    "class Account:\n",
    "\n",
    "    def __init__(self,title=None,balance=0):\n",
    "        self.title=title\n",
    "        self.balance=balance\n",
    "\n",
    "class SavingsAccount(Account):\n",
    "\n",
    "    def __init__(self,title=None,balance=0,interest_rate=0):\n",
    "        super().__init__(title,balance)\n",
    "        self.interest_rate=interest_rate"
   ]
  },
  {
   "cell_type": "code",
   "execution_count": 15,
   "id": "7faa95a8",
   "metadata": {},
   "outputs": [],
   "source": [
    "account=Account(\"ashish\",5000)\n"
   ]
  },
  {
   "cell_type": "code",
   "execution_count": 16,
   "id": "bafd282c",
   "metadata": {},
   "outputs": [
    {
     "name": "stdout",
     "output_type": "stream",
     "text": [
      "ashish\n"
     ]
    }
   ],
   "source": [
    "print(account.title)"
   ]
  },
  {
   "cell_type": "code",
   "execution_count": 17,
   "id": "eb0dfde6",
   "metadata": {},
   "outputs": [
    {
     "name": "stdout",
     "output_type": "stream",
     "text": [
      "5000\n"
     ]
    }
   ],
   "source": [
    "print(account.balance)"
   ]
  },
  {
   "cell_type": "code",
   "execution_count": 18,
   "id": "a947ae28",
   "metadata": {},
   "outputs": [],
   "source": [
    "savings_account=SavingsAccount(\"ashish\",5000,5)\n"
   ]
  },
  {
   "cell_type": "code",
   "execution_count": 19,
   "id": "174fe061",
   "metadata": {},
   "outputs": [
    {
     "name": "stdout",
     "output_type": "stream",
     "text": [
      "ashish\n"
     ]
    }
   ],
   "source": [
    "print(savings_account.title)"
   ]
  },
  {
   "cell_type": "code",
   "execution_count": 20,
   "id": "a920c981",
   "metadata": {},
   "outputs": [
    {
     "name": "stdout",
     "output_type": "stream",
     "text": [
      "5000\n"
     ]
    }
   ],
   "source": [
    "print(savings_account.balance)"
   ]
  },
  {
   "cell_type": "code",
   "execution_count": 21,
   "id": "2c87a701",
   "metadata": {},
   "outputs": [
    {
     "name": "stdout",
     "output_type": "stream",
     "text": [
      "5\n"
     ]
    }
   ],
   "source": [
    "print(savings_account.interest_rate)"
   ]
  },
  {
   "cell_type": "markdown",
   "id": "4687c0e2",
   "metadata": {},
   "source": [
    "# Challenge 5: Handling a Bank Account"
   ]
  },
  {
   "cell_type": "code",
   "execution_count": 22,
   "id": "305635c0",
   "metadata": {},
   "outputs": [],
   "source": [
    "class Account:\n",
    "    def __init__(self, title=None, balance=0):\n",
    "        self.title = title\n",
    "        self.balance = balance\n",
    "   \n",
    "    \n",
    "    def withdrawal(self, amount):\n",
    "        if amount<=self.balance:\n",
    "            self.amount-=amount\n",
    "           \n",
    "        else:\n",
    "                    print('insufficient balance')\n",
    "        \n",
    "\n",
    "    def deposit(self, amount):\n",
    "        self.balance+=amount\n",
    "        \n",
    "    def getBalance(self):\n",
    "        return self.balance\n",
    "    \n",
    "class SavingsAccount(Account):\n",
    "    def __init__(self, title=None, balance=0, interestRate=0):\n",
    "            super().__init__(title, balance)\n",
    "            self.interestRate = interestRate\n",
    "    \n",
    "    def interestAmount(self):\n",
    "        return self.balance*self.interestRate/100\n"
   ]
  },
  {
   "cell_type": "code",
   "execution_count": 23,
   "id": "ab3e4451",
   "metadata": {},
   "outputs": [],
   "source": [
    "account=Account(\"Ashish\",2000)"
   ]
  },
  {
   "cell_type": "code",
   "execution_count": 24,
   "id": "6f45f3f1",
   "metadata": {},
   "outputs": [
    {
     "name": "stdout",
     "output_type": "stream",
     "text": [
      "2000\n"
     ]
    }
   ],
   "source": [
    "print(account.getBalance())"
   ]
  },
  {
   "cell_type": "code",
   "execution_count": 25,
   "id": "41b24297",
   "metadata": {},
   "outputs": [],
   "source": [
    "account.deposit(500)"
   ]
  },
  {
   "cell_type": "code",
   "execution_count": 26,
   "id": "b1c6adeb",
   "metadata": {},
   "outputs": [
    {
     "name": "stdout",
     "output_type": "stream",
     "text": [
      "2500\n"
     ]
    }
   ],
   "source": [
    "print(account.getBalance())"
   ]
  },
  {
   "cell_type": "code",
   "execution_count": 27,
   "id": "ea263ebc",
   "metadata": {},
   "outputs": [
    {
     "name": "stdout",
     "output_type": "stream",
     "text": [
      "insufficient balance\n"
     ]
    }
   ],
   "source": [
    "account.withdrawal(3000)"
   ]
  },
  {
   "cell_type": "code",
   "execution_count": 28,
   "id": "ce0f5f06",
   "metadata": {},
   "outputs": [
    {
     "name": "stdout",
     "output_type": "stream",
     "text": [
      "2500\n"
     ]
    }
   ],
   "source": [
    "print(account.getBalance())"
   ]
  },
  {
   "cell_type": "code",
   "execution_count": 29,
   "id": "2be0c6de",
   "metadata": {},
   "outputs": [],
   "source": [
    "savings_account=SavingsAccount('Ashish',2000,5)"
   ]
  },
  {
   "cell_type": "code",
   "execution_count": 30,
   "id": "5680a65a",
   "metadata": {},
   "outputs": [
    {
     "name": "stdout",
     "output_type": "stream",
     "text": [
      "100.0\n"
     ]
    }
   ],
   "source": [
    "print(savings_account.interestAmount())"
   ]
  },
  {
   "cell_type": "code",
   "execution_count": null,
   "id": "fb8f6787",
   "metadata": {},
   "outputs": [],
   "source": []
  }
 ],
 "metadata": {
  "kernelspec": {
   "display_name": "Python 3 (ipykernel)",
   "language": "python",
   "name": "python3"
  },
  "language_info": {
   "codemirror_mode": {
    "name": "ipython",
    "version": 3
   },
   "file_extension": ".py",
   "mimetype": "text/x-python",
   "name": "python",
   "nbconvert_exporter": "python",
   "pygments_lexer": "ipython3",
   "version": "3.10.9"
  }
 },
 "nbformat": 4,
 "nbformat_minor": 5
}
